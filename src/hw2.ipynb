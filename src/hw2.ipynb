{
 "cells": [
  {
   "cell_type": "code",
   "execution_count": null,
   "metadata": {},
   "outputs": [],
   "source": [
    "#!/usr/bin/env python\n",
    "\n",
    "import numpy as np\n",
    "import pandas as pd\n",
    "from matplotlib import cm\n",
    "from matplotlib.colors import to_hex\n",
    "import matplotlib.pyplot as plt\n",
    "import statsmodels.api as sm\n",
    "import statsmodels.formula.api as smf\n",
    "\n",
    "import os\n",
    "import constants as cs"
   ]
  },
  {
   "cell_type": "code",
   "execution_count": null,
   "metadata": {},
   "outputs": [],
   "source": [
    "# Utility functions\n",
    "\n",
    "\n",
    "#\n",
    "# plot a time series data with monthly markers to determine seasonal trends\n",
    "#\n",
    "# Args:\n",
    "#    dates  (type): timestamps of data collection\n",
    "#    values (type): data values\n",
    "#    xlabel (str) : plot x axis label\n",
    "#    ylabel (str) : plot y axis label\n",
    "#    title  (str) : plot title\n",
    "#\n",
    "# Returns:\n",
    "#    None\n",
    "#\n",
    "def plot_monthly(\n",
    "    dates: pd.DataFrame, values: pd.DataFrame, xlabel: str, ylabel: str, title: str\n",
    ") -> None:\n",
    "    # plot time series data\n",
    "    plt.figure(figsize=(12, 4))\n",
    "    plt.plot(\n",
    "        dates,\n",
    "        values,\n",
    "        marker=\"o\",\n",
    "    )\n",
    "    plt.xlabel(xlabel)\n",
    "    plt.ylabel(ylabel)\n",
    "    plt.title(title)\n",
    "\n",
    "    colormap = cm.get_cmap(\"hsv\")\n",
    "    # plot monthly markers\n",
    "    # monthly markers more clearly show the seasonality of the data\n",
    "    for d, v in zip(dates, values):\n",
    "        marker = r\"$\\rm{\" + d.strftime(\"%b\") + \"}$\"\n",
    "        color = to_hex(colormap((d.month - 1)/12))\n",
    "        plt.plot(d, v, marker=marker, markersize=12, color=color)\n",
    "    plt.show()\n",
    "\n",
    "\n",
    "#\n",
    "# plot time series data\n",
    "#\n",
    "# Args:\n",
    "#    dates  (type): timestamps of data collection\n",
    "#    values (type): data values\n",
    "#    xlabel (str) : plot x axis label\n",
    "#    ylabel (str) : plot y axis label\n",
    "#    title  (str) : plot title\n",
    "#\n",
    "# Returns:\n",
    "#    None\n",
    "#\n",
    "def plot_ts(\n",
    "    dates: pd.DataFrame, values: pd.DataFrame, xlabel: str, ylabel: str, title: str\n",
    ") -> None:\n",
    "\n",
    "    plt.figure(figsize=(12, 4))\n",
    "    plt.plot(\n",
    "        dates,\n",
    "        values,\n",
    "        marker=\"o\",\n",
    "    )\n",
    "    plt.xlabel(xlabel)\n",
    "    plt.ylabel(ylabel)\n",
    "    plt.title(title)\n",
    "    plt.show()"
   ]
  },
  {
   "cell_type": "code",
   "execution_count": null,
   "metadata": {},
   "outputs": [],
   "source": [
    "# problem 3.4\n",
    "# read the hours dataset into memory\n",
    "hours = pd.read_csv(os.path.join(cs.DATASETS, \"hours.dat\"))\n",
    "# create timestamps for the data\n",
    "hours.set_index(pd.date_range(\"1982-07\", periods=len(hours.index), freq=\"M\"), inplace=True)"
   ]
  },
  {
   "cell_type": "code",
   "execution_count": null,
   "metadata": {},
   "outputs": [],
   "source": [
    "# 3.4 a\n",
    "plot_ts(hours.index, hours[\"hours\"], \"Time (Months)\", \"Hours\", \"Plot of Hours Dataset\")"
   ]
  },
  {
   "cell_type": "code",
   "execution_count": null,
   "metadata": {},
   "outputs": [],
   "source": [
    "# 3.4 b\n",
    "plot_monthly(\n",
    "    hours.index, hours[\"hours\"], \"Time (Months)\", \"Hours\", \"Plot of Hours Dataset\"\n",
    ")"
   ]
  },
  {
   "cell_type": "code",
   "execution_count": null,
   "metadata": {},
   "outputs": [],
   "source": [
    "# problem 3.6\n",
    "# read dataset and set timestamp\n",
    "beersales = pd.read_csv(os.path.join(cs.DATASETS, \"beersales.dat\"))\n",
    "beersales.set_index(\n",
    "    pd.date_range(\"1975-01\", periods=len(beersales.index), freq=\"M\"), inplace=True\n",
    ")\n",
    "# not sure what this is calculated, but is necessary for part e\n",
    "beersales[\"t\"] = (beersales.index.year + beersales.index.month - 1) / 12"
   ]
  },
  {
   "cell_type": "code",
   "execution_count": null,
   "metadata": {},
   "outputs": [],
   "source": [
    "# 3.6 a\n",
    "plot_ts(\n",
    "    beersales.index,\n",
    "    beersales[\"beersales\"],\n",
    "    \"Time (Months)\",\n",
    "    \"Beer Sales (Millions of Barrels)\",\n",
    "    \"Millions of Barrels sold in the U.S. from 1975 - 1990\",\n",
    ")"
   ]
  },
  {
   "cell_type": "code",
   "execution_count": null,
   "metadata": {},
   "outputs": [],
   "source": [
    "# 3.6 b\n",
    "plot_monthly(\n",
    "    beersales.index,\n",
    "    beersales[\"beersales\"],\n",
    "    \"Time (Months)\",\n",
    "    \"Beer Sales (Millions of Barrels)\",\n",
    "    \"Millions of Barrels sold in the U.S. from 1975 - 1990\",\n",
    ")"
   ]
  },
  {
   "cell_type": "code",
   "execution_count": null,
   "metadata": {},
   "outputs": [],
   "source": [
    "# 3.6 c\n",
    "beersales[\"month\"] = beersales.index.month\n",
    "model = smf.ols(\"beersales ~ C(month)\", data=beersales).fit()\n",
    "model.summary()"
   ]
  },
  {
   "cell_type": "code",
   "execution_count": null,
   "metadata": {},
   "outputs": [],
   "source": [
    "# 3.6 d\n",
    "plot_monthly(beersales.index, model.resid_pearson, \"Time (Months)\", \"Residual\", \"Residual over time\")"
   ]
  },
  {
   "cell_type": "code",
   "execution_count": null,
   "metadata": {},
   "outputs": [],
   "source": [
    "# 3.6 e\n",
    "model = smf.ols(\"beersales ~ t + np.power(t, 2) + C(month)\", data=beersales).fit()\n",
    "model.summary()\n"
   ]
  },
  {
   "cell_type": "code",
   "execution_count": null,
   "metadata": {},
   "outputs": [],
   "source": [
    "# 3.6 f\n",
    "plot_monthly(beersales.index, model.resid_pearson, \"Time (Months)\", \"Residual\", \"Residual over time\")"
   ]
  },
  {
   "cell_type": "code",
   "execution_count": null,
   "metadata": {},
   "outputs": [],
   "source": [
    "# 3.10 a\n",
    "\n",
    "hours[\"t\"] = (hours.index.year + hours.index.month - 1) / 12\n",
    "model = smf.ols(\"hours ~ t + np.power(t, 2)\", hours).fit()\n",
    "model.summary()"
   ]
  },
  {
   "cell_type": "code",
   "execution_count": null,
   "metadata": {},
   "outputs": [],
   "source": [
    "plot_monthly(hours.index, model.resid_pearson, \"Time (Months)\", \"Residuals\", \"Residuals over time\")"
   ]
  },
  {
   "cell_type": "code",
   "execution_count": null,
   "metadata": {},
   "outputs": [],
   "source": [
    "from statsmodels.sandbox.stats.runs import runstest_1samp\n",
    "\n",
    "z_stat, p_value = runstest_1samp(model.resid_pearson, cutoff=0, correction=False)\n",
    "print('Z statistic:\\t %.3f' % z_stat)\n",
    "print('p-value:\\t %e' % p_value)"
   ]
  },
  {
   "cell_type": "code",
   "execution_count": null,
   "metadata": {},
   "outputs": [],
   "source": [
    "sm.graphics.tsa.plot_acf(model.resid_pearson, lags=20)"
   ]
  },
  {
   "cell_type": "code",
   "execution_count": null,
   "metadata": {},
   "outputs": [],
   "source": [
    "plt.figure(figsize=(12, 8))\n",
    "plt.hist(model.resid_pearson, edgecolor='black', facecolor='lightgray')\n",
    "plt.xlabel('Residual')\n",
    "plt.ylabel('Frequency')\n",
    "plt.title('Histogram of Residuals')\n",
    "plt.show()\n",
    "\n",
    "import matplotlib as mpl\n",
    "\n",
    "with mpl.rc_context():\n",
    "    mpl.rc(\"figure\", figsize=(12, 8))\n",
    "    sm.ProbPlot(model.resid_pearson).ppplot(line='45')\n",
    "\n",
    "plt.show()"
   ]
  }
 ],
 "metadata": {
  "kernelspec": {
   "display_name": ".venv",
   "language": "python",
   "name": "python3"
  },
  "language_info": {
   "codemirror_mode": {
    "name": "ipython",
    "version": 3
   },
   "file_extension": ".py",
   "mimetype": "text/x-python",
   "name": "python",
   "nbconvert_exporter": "python",
   "pygments_lexer": "ipython3",
   "version": "3.11.7"
  }
 },
 "nbformat": 4,
 "nbformat_minor": 2
}
