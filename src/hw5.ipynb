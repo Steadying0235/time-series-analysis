{
 "cells": [
  {
   "cell_type": "code",
   "execution_count": null,
   "metadata": {},
   "outputs": [],
   "source": [
    "from statsmodels.tsa.arima_process import ArmaProcess\n",
    "import numpy as np\n",
    "\n",
    "np.random.seed(123)\n",
    "\n",
    "# 6.20 a\n",
    "# AR(1) n=48, phi=0.7\n",
    "ar_1 = ArmaProcess(ar=[1, -0.7], ma=[1])\n",
    "samples = ar_1.generate_sample(48)\n",
    "# theoretical acf out to 5 lags\n",
    "acf_t = ar_1.acf(lags=6)\n",
    "for i, v in enumerate(acf_t):\n",
    "    print(f\"Theoretical ACF({i}) = {v:.3f}\")"
   ]
  },
  {
   "cell_type": "code",
   "execution_count": null,
   "metadata": {},
   "outputs": [],
   "source": [
    "import numpy as np\n",
    "\n",
    "# 6.20 helper functions\n",
    "\n",
    "\n",
    "# equation 6.1.6\n",
    "def r1_std_dev(n, phi):\n",
    "    return np.sqrt((1 / n) * (1 - phi**2))\n",
    "\n",
    "\n",
    "def r5_std_dev(n, phi):\n",
    "    return np.sqrt((1 / n) * ((1 + phi**2) / (1 - phi**2)))"
   ]
  },
  {
   "cell_type": "code",
   "execution_count": null,
   "metadata": {},
   "outputs": [],
   "source": [
    "# 6.20 b\n",
    "from statsmodels.tsa.stattools import acf\n",
    "\n",
    "# Calculate sample acf\n",
    "acf_s = acf(samples, nlags=5)\n",
    "for i, v in enumerate(acf_s):\n",
    "    print(f\"Sample ACF({i}) = {v:.3f}\")\n",
    "\n",
    "t1, t5 = acf_t[1], acf_t[5]\n",
    "r1, r5 = acf_s[1], acf_s[4]\n",
    "r1_std_err = r1_std_dev(48, 0.7)\n",
    "r5_std_err = r5_std_dev(48, 0.7)\n",
    "print(f\"r1 std deviation = {r1_std_err:.3f}\")\n",
    "print(f\"r5 std deviation = {r5_std_err:.3f}\")\n",
    "print(f\"r1 std error =  {(abs(r1 - t1) / r1_std_err):.3f}\")\n",
    "print(f\"r5 std error = {(abs(r5 - t5) / r5_std_err):.3f}\")"
   ]
  },
  {
   "cell_type": "code",
   "execution_count": null,
   "metadata": {},
   "outputs": [],
   "source": [
    "# 6.20 c\n",
    "\n",
    "# theoretical acf out to 5 lags\n",
    "ar_1 = ArmaProcess(ar=[1, -0.7], ma=[1])\n",
    "samples = ar_1.generate_sample(48)\n",
    "acf_t = ar_1.acf(lags=6)\n",
    "acf_s = acf(samples, nlags=5)\n",
    "for i, v in enumerate(acf_s):\n",
    "    print(f\"Sample ACF({i}) = {v:3f}\")\n",
    "\n",
    "t1, t5 = acf_t[1], acf_t[5]\n",
    "r1, r5 = acf_s[1], acf_s[4]\n",
    "r1_std_err = r1_std_dev(48, 0.7)\n",
    "r5_std_err = r5_std_dev(48, 0.7)\n",
    "print(f\"r1 std deviation = {r1_std_err:.3f}\")\n",
    "print(f\"r5 std deviation = {r5_std_err:.3f}\")\n",
    "print(f\"r1 std error =  {(abs(r1 - t1) / r1_std_err):.3f}\")\n",
    "print(f\"r5 std error = {(abs(r5 - t5) / r5_std_err):.3f}\")\n",
    "\n",
    "# The precision of the estimate in this simulation is similar to the precision of the previous estimate"
   ]
  },
  {
   "cell_type": "code",
   "execution_count": null,
   "metadata": {},
   "outputs": [],
   "source": [
    "# 6.20 d\n",
    "import seaborn as sns\n",
    "import matplotlib.pyplot as plt\n",
    "\n",
    "r1_list = []\n",
    "r5_list = []\n",
    "for i in range(10000):\n",
    "    ar_1 = ArmaProcess(ar=[1, -0.7], ma=[1])\n",
    "    samples = ar_1.generate_sample(48)\n",
    "    acf_s = acf(samples, nlags=5)\n",
    "    r1_list.append(acf_s[1])\n",
    "    r5_list.append(acf_s[4])\n",
    "\n",
    "sns.set_style(\"darkgrid\")\n",
    "fig, ax = plt.subplots(1, 2, figsize=(10, 5))\n",
    "sns.histplot(r1_list, stat=\"frequency\", ax=ax[0])\n",
    "ax[0].set_title(\"Historgram of r1\")\n",
    "sns.histplot(r5_list, stat=\"frequency\", ax=ax[1])\n",
    "ax[1].set_title(\"Histogram of r5\")\n",
    "plt.tight_layout()"
   ]
  },
  {
   "cell_type": "code",
   "execution_count": null,
   "metadata": {},
   "outputs": [],
   "source": [
    "# 6.28 a\n",
    "from statsmodels.tsa.arima_process import ArmaProcess\n",
    "import numpy as np\n",
    "\n",
    "np.random.seed(123)\n",
    "ma_2 = ArmaProcess(ar=[1], ma=[1, -0.7, 0.4])\n",
    "acf_t = ma_2.acf(lags=21)\n",
    "for i, v in enumerate(acf_t):\n",
    "  print(f\"Theoretical ACF({i}) = {v:.3f}\")\n"
   ]
  },
  {
   "cell_type": "code",
   "execution_count": null,
   "metadata": {},
   "outputs": [],
   "source": [
    "# 6.28 b\n",
    "from statsmodels.graphics.tsaplots import plot_acf\n",
    "from statsmodels.tsa.stattools import acf\n",
    "\n",
    "samples = ma_2.generate_sample(36)\n",
    "acf_s = acf(samples, nlags=20)\n",
    "\n",
    "plot_acf(samples, lags=20)\n",
    "\n",
    "# The simulated sample only indicates lag 1 is significant, but the theoretical acf indicates that up to lag 2 is significant\n",
    "# Futhermore, lags past 2 are not strictly zero, but they are all insignificant"
   ]
  },
  {
   "cell_type": "code",
   "execution_count": null,
   "metadata": {},
   "outputs": [],
   "source": [
    "# 6.28 c\n",
    "import seaborn as sns\n",
    "import matplotlib.pyplot as plt\n",
    "\n",
    "sns.set_style(\"darkgrid\")\n",
    "\n",
    "pacf_t = ma_2.pacf(lags=21)\n",
    "plt.stem(range(len(pacf_t)), pacf_t)\n",
    "plt.xlabel('Lags')\n",
    "plt.ylabel('Partial Autocorrelation')\n",
    "plt.title('Theoretical PACF for MA(2) process')\n"
   ]
  },
  {
   "cell_type": "code",
   "execution_count": null,
   "metadata": {},
   "outputs": [],
   "source": [
    "# 6.28 d\n",
    "from statsmodels.graphics.tsaplots import plot_pacf\n",
    "plot_pacf(samples)\n",
    "# The sample partical autocorrelation fits well"
   ]
  },
  {
   "cell_type": "code",
   "execution_count": null,
   "metadata": {},
   "outputs": [],
   "source": [
    "# 6.30 a\n",
    "from statsmodels.tsa.arima_process import ArmaProcess\n",
    "import matplotlib.pyplot as plt\n",
    "import numpy as np\n",
    "\n",
    "np.random.seed(123)\n",
    "arma_11 = ArmaProcess(ar=[1, -0.8], ma=[1, -0.4])\n",
    "acf_t = arma_11.acf(lags=21)\n",
    "plt.stem(\n",
    "    range(len(acf_t)),\n",
    "    acf_t,\n",
    ")\n",
    "plt.xlabel(\"Lags\")\n",
    "plt.ylabel(\"Autocorrelation\")\n",
    "plt.title(\"Theoretical ACF for ARMA(1,1) process\")"
   ]
  },
  {
   "cell_type": "code",
   "execution_count": null,
   "metadata": {},
   "outputs": [],
   "source": [
    "# 6.30 b\n",
    "from statsmodels.graphics.tsaplots import plot_acf\n",
    "\n",
    "fig, ax = plt.subplots()\n",
    "samples = arma_11.generate_sample(nsample=100)\n",
    "plot_acf(samples, lags=20)\n",
    "\n",
    "# The theoretical acf takes much longer to decay than the sample acf seems to"
   ]
  },
  {
   "cell_type": "code",
   "execution_count": null,
   "metadata": {},
   "outputs": [],
   "source": [
    "# 6.30 c\n",
    "from statsmodels.tsa.stattools import eacf"
   ]
  }
 ],
 "metadata": {
  "kernelspec": {
   "display_name": ".venv",
   "language": "python",
   "name": "python3"
  },
  "language_info": {
   "codemirror_mode": {
    "name": "ipython",
    "version": 3
   },
   "file_extension": ".py",
   "mimetype": "text/x-python",
   "name": "python",
   "nbconvert_exporter": "python",
   "pygments_lexer": "ipython3",
   "version": "3.11.7"
  }
 },
 "nbformat": 4,
 "nbformat_minor": 2
}
